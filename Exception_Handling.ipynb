{
 "cells": [
  {
   "cell_type": "code",
   "execution_count": 1,
   "id": "1806e1b5-f8b2-40d0-b8f2-5c349723fa87",
   "metadata": {},
   "outputs": [
    {
     "data": {
      "text/plain": [
       "4"
      ]
     },
     "execution_count": 1,
     "metadata": {},
     "output_type": "execute_result"
    }
   ],
   "source": [
    "L= [1,2,3,4,5]\n",
    "\n",
    "L[3]"
   ]
  },
  {
   "cell_type": "code",
   "execution_count": 11,
   "id": "a030eced-08f4-45e4-9256-749911f26b53",
   "metadata": {},
   "outputs": [
    {
     "name": "stdout",
     "output_type": "stream",
     "text": [
      "Hello world\n"
     ]
    },
    {
     "ename": "NameError",
     "evalue": "name 'L' is not defined",
     "output_type": "error",
     "traceback": [
      "\u001b[1;31m---------------------------------------------------------------------------\u001b[0m",
      "\u001b[1;31mNameError\u001b[0m                                 Traceback (most recent call last)",
      "Cell \u001b[1;32mIn[11], line 2\u001b[0m\n\u001b[0;32m      1\u001b[0m \u001b[38;5;28mprint\u001b[39m(\u001b[38;5;124m\"\u001b[39m\u001b[38;5;124mHello world\u001b[39m\u001b[38;5;124m\"\u001b[39m)\n\u001b[1;32m----> 2\u001b[0m \u001b[43mL\u001b[49m\n\u001b[0;32m      3\u001b[0m \u001b[38;5;28;01mtry\u001b[39;00m:\n\u001b[0;32m      4\u001b[0m     \u001b[38;5;28mprint\u001b[39m(L[\u001b[38;5;241m3\u001b[39m])\n",
      "\u001b[1;31mNameError\u001b[0m: name 'L' is not defined"
     ]
    }
   ],
   "source": [
    "print(\"Hello world\")\n",
    "L\n",
    "try:\n",
    "    print(L[3])\n",
    "except:\n",
    "    print(L[7])\n",
    "print(\"end of code\")"
   ]
  },
  {
   "cell_type": "code",
   "execution_count": 2,
   "id": "53936be9-9048-4578-a990-ba7983e1754d",
   "metadata": {},
   "outputs": [
    {
     "name": "stdout",
     "output_type": "stream",
     "text": [
      "Hello world\n",
      "4\n",
      "5\n",
      "end of code\n"
     ]
    }
   ],
   "source": [
    "print(\"Hello world\")\n",
    "\n",
    "L\n",
    "\n",
    "print(L[3])\n",
    "try:\n",
    "    print(L[4])\n",
    "except:\n",
    "    print(\"invalid index\")\n",
    "\n",
    "print(\"end of code\")"
   ]
  },
  {
   "cell_type": "code",
   "execution_count": 6,
   "id": "308ac601-9f85-4cb7-898c-ff8cf7abd157",
   "metadata": {},
   "outputs": [
    {
     "name": "stdout",
     "output_type": "stream",
     "text": [
      "B can't be zero\n",
      "Code executed successfully\n"
     ]
    }
   ],
   "source": [
    "\n",
    "a=10\n",
    "b=0\n",
    "\n",
    "try:\n",
    "    print(a/b)\n",
    "\n",
    "except:\n",
    "    print(\"B can't be zero\")\n",
    "\n",
    "finally:\n",
    "    print(\"Code executed successfully\")\n",
    "    "
   ]
  },
  {
   "cell_type": "code",
   "execution_count": 3,
   "id": "2c7a0afe-b790-4560-bf26-9dee78cf1ad4",
   "metadata": {},
   "outputs": [
    {
     "name": "stdout",
     "output_type": "stream",
     "text": [
      "2.0\n",
      "B can't be Zero\n",
      "Code executed Sucessfully\n"
     ]
    }
   ],
   "source": [
    "a=10\n",
    "b=5\n",
    "\n",
    "try : \n",
    "    print(a/b)\n",
    "    l[8]\n",
    "except: \n",
    "    print(\"B can't be Zero\")\n",
    "finally:\n",
    "    print(\"Code executed Sucessfully\")"
   ]
  },
  {
   "cell_type": "code",
   "execution_count": 4,
   "id": "440d0fee-ad29-431a-b4f7-788de0e20d51",
   "metadata": {},
   "outputs": [
    {
     "name": "stdout",
     "output_type": "stream",
     "text": [
      "B can't be Zero\n",
      "Code executed Sucessfully\n"
     ]
    }
   ],
   "source": [
    "a=10\n",
    "b=0\n",
    "\n",
    "try : \n",
    "    print(a/b)\n",
    "    L[8]\n",
    "except ZeroDivisionError: \n",
    "    print(\"B can't be Zero\")\n",
    "except NameError: \n",
    "    print(\"Incorrect Identifier\")\n",
    "except IndexError: \n",
    "    print(\"Trying to fetch the non existing data\")\n",
    "finally:\n",
    "    print(\"Code executed Sucessfully\")"
   ]
  },
  {
   "cell_type": "code",
   "execution_count": 5,
   "id": "98d180b9-ddf4-4d76-8464-81d34f9eae4a",
   "metadata": {},
   "outputs": [
    {
     "name": "stdout",
     "output_type": "stream",
     "text": [
      "2.0\n",
      "list index out of range\n",
      "Code executed Sucessfully\n"
     ]
    }
   ],
   "source": [
    "a=10\n",
    "b=5\n",
    "\n",
    "try : \n",
    "    print(a/b)\n",
    "    L[8]\n",
    "except Exception as e: \n",
    "    print(e)\n",
    "finally:\n",
    "    print(\"Code executed Sucessfully\")"
   ]
  },
  {
   "cell_type": "code",
   "execution_count": null,
   "id": "222dcbfb-1338-4167-baf6-fa40e8439107",
   "metadata": {},
   "outputs": [],
   "source": []
  }
 ],
 "metadata": {
  "kernelspec": {
   "display_name": "Python 3 (ipykernel)",
   "language": "python",
   "name": "python3"
  },
  "language_info": {
   "codemirror_mode": {
    "name": "ipython",
    "version": 3
   },
   "file_extension": ".py",
   "mimetype": "text/x-python",
   "name": "python",
   "nbconvert_exporter": "python",
   "pygments_lexer": "ipython3",
   "version": "3.12.4"
  }
 },
 "nbformat": 4,
 "nbformat_minor": 5
}
