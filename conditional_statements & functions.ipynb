{
 "cells": [
  {
   "cell_type": "code",
   "execution_count": 2,
   "id": "a3cebb62-c98e-439f-be5a-53b1e37ff56d",
   "metadata": {},
   "outputs": [
    {
     "name": "stdin",
     "output_type": "stream",
     "text": [
      "Enter your Expression:  7+8\n"
     ]
    },
    {
     "name": "stdout",
     "output_type": "stream",
     "text": [
      "15.0\n"
     ]
    }
   ],
   "source": [
    "#Calculator \n",
    "\n",
    "str=input(\"Enter your Expression: \")\n",
    "op = \"\"\n",
    "for i in str:\n",
    "    if i in \"+-*/\":\n",
    "        op=i\n",
    "        str=str.replace(op,\" \")\n",
    "        L = str.split(\" \")\n",
    "    \n",
    "if op == '+':\n",
    "    print(float(L[0])+float(L[1]))\n",
    "elif op == '-':\n",
    "    print(float(L[0])-float(L[1]))\n",
    "elif op == '*':\n",
    "    print(float(L[0])*float(L[1]))\n",
    "elif op == '/':\n",
    "    print(float(L[0])/float(L[1]))\n",
    "else :\n",
    "    print(\"Invalid\")\n",
    "                   "
   ]
  },
  {
   "cell_type": "code",
   "execution_count": 17,
   "id": "bc036ba3-5081-4d85-bcb6-1b115b2d1a2d",
   "metadata": {},
   "outputs": [
    {
     "name": "stdout",
     "output_type": "stream",
     "text": [
      "{'A': 1}\n",
      "{'A': 1, 'B': 1}\n",
      "{'A': 2, 'B': 2, 'C': 1}\n",
      "{'A': 2, 'B': 3, 'C': 1, 'D': 1}\n"
     ]
    }
   ],
   "source": [
    "#given a dictionary with some keywords with some values so check the occurence of values.\n",
    "\n",
    "dIP = {\"S1\":\"A\",\"S2\":\"B\", \"S3\":\"A\", \"S4\":\"B\", \"S5\":\"C\", \"S6\":\"B\", \"S7\":\"D\"}\n",
    "#print(dIP)\n",
    "dOP = {}\n",
    "\n",
    "for i in dIP.values():\n",
    "    if i in dOP.keys():\n",
    "        dOP[i]=dOP[i]+1\n",
    "    else:\n",
    "        dOP[i]=1\n",
    "        print(dOP)\n",
    "\n"
   ]
  },
  {
   "cell_type": "code",
   "execution_count": 19,
   "id": "05d8641c-788e-4c14-832a-560710c67f74",
   "metadata": {},
   "outputs": [
    {
     "name": "stdout",
     "output_type": "stream",
     "text": [
      "7\n"
     ]
    }
   ],
   "source": [
    "#function-parameterized fxn :to add 2 numbers. \n",
    "\n",
    "def addnum(a,b):\n",
    "    c=a+b\n",
    "    return c\n",
    "if __name__==\"main__\":\n",
    "result = addnum(2,5)\n",
    "print(result)"
   ]
  },
  {
   "cell_type": "code",
   "execution_count": 21,
   "id": "ea7c3806-73d6-43a3-863d-b1d0b6a011cf",
   "metadata": {},
   "outputs": [],
   "source": [
    "#function-non parameterized fxn :to add 2 numbers. \n",
    "\n",
    "def addnum():\n",
    "    a=int(input())\n",
    "    b=int(input())\n",
    "    c=a+b\n",
    "    print(c)\n",
    "if __name__==\"main__\":\n",
    "    addnum()\n"
   ]
  },
  {
   "cell_type": "code",
   "execution_count": 22,
   "id": "04f23897-e2d8-408f-ac72-386b02fc4ad7",
   "metadata": {},
   "outputs": [],
   "source": [
    "#To check given number is prime or not.\n",
    "\n",
    "def checkprime(n):\n",
    "    flag = 0\n",
    "    if n<1:\n",
    "        flag =2\n",
    "        return flag\n",
    "    if n in [1,2,3]:\n",
    "        return flag\n",
    "    for i in range(2,(n//2+1)):   #// - floor decimal\n",
    "        if n%i==0:\n",
    "         flag=1\n",
    "         return flag\n",
    "    return flag      \n",
    "\n",
    "if __name__==\"main__\":\n",
    "    n=int(input(\"Enter the Number: \"))\n",
    "    result = checkprime(n)\n",
    "    if result == 0:\n",
    "        print(\"The number is Prime or Special Case\")\n",
    "    elif result == 1:\n",
    "        print(\"The number is Non Prime\")\n",
    "    else:\n",
    "        print(\"Invalid Input\")\n"
   ]
  },
  {
   "cell_type": "code",
   "execution_count": 23,
   "id": "73339314-c0f1-45fb-ab2e-42a9b114850f",
   "metadata": {},
   "outputs": [],
   "source": [
    "#CLASS\n",
    "\n",
    "class ABC:\n",
    "    def __init__(self): #Private __(two underscore)\n",
    "        self.a=0        #Public\n",
    "        self.L=[]      #Public\n",
    "        self.C=\"\"      #Public  \n",
    "        def abc(self):\n",
    "            print(self.a)\n",
    "            print(self.L)\n",
    "            print(self.C)\n",
    "if __name__==\"main__\":   #Protected (one underscore)\n",
    "    obj=ABC()\n",
    "    obj.abc()\n",
    "    print(type(obj))\n",
    "\n",
    "    "
   ]
  },
  {
   "cell_type": "code",
   "execution_count": null,
   "id": "815ffcde-c9a0-4ddd-9a8c-9b6cc3503c4f",
   "metadata": {},
   "outputs": [],
   "source": []
  }
 ],
 "metadata": {
  "kernelspec": {
   "display_name": "Python 3 (ipykernel)",
   "language": "python",
   "name": "python3"
  },
  "language_info": {
   "codemirror_mode": {
    "name": "ipython",
    "version": 3
   },
   "file_extension": ".py",
   "mimetype": "text/x-python",
   "name": "python",
   "nbconvert_exporter": "python",
   "pygments_lexer": "ipython3",
   "version": "3.12.4"
  }
 },
 "nbformat": 4,
 "nbformat_minor": 5
}
