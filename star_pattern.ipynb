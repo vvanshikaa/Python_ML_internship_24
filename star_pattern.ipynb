{
 "cells": [
  {
   "cell_type": "code",
   "execution_count": 2,
   "id": "72cde64b-fc3d-4885-bad7-ba77a97a0c32",
   "metadata": {},
   "outputs": [
    {
     "name": "stdin",
     "output_type": "stream",
     "text": [
      " 5\n"
     ]
    },
    {
     "name": "stdout",
     "output_type": "stream",
     "text": [
      "        * \n",
      "      * * \n",
      "    * * * \n",
      "  * * * * \n",
      "* * * * * \n"
     ]
    }
   ],
   "source": [
    "#practice questions\n",
    "\n",
    "n = int(input())\n",
    "for i in range(n):\n",
    "    for s in range(n-1,i,-1):\n",
    "        print(\" \",end=\" \")\n",
    "    for j in range(i+1):\n",
    "        print('*',end=\" \")\n",
    "    print()"
   ]
  },
  {
   "cell_type": "code",
   "execution_count": 14,
   "id": "7f8d49f8-5816-4c18-a8d2-19c43a6061b4",
   "metadata": {},
   "outputs": [
    {
     "name": "stdin",
     "output_type": "stream",
     "text": [
      "Enter the Equipment Id:  5\n",
      "Enter the Equipment Name:  k\n",
      "Enter the Equipment Brand:  h\n",
      "Enter the Equipment Total Quantity:  7\n",
      "Enter the Equipment Available Quantity:  3\n"
     ]
    },
    {
     "ename": "NameError",
     "evalue": "name 'Stock' is not defined",
     "output_type": "error",
     "traceback": [
      "\u001b[1;31m---------------------------------------------------------------------------\u001b[0m",
      "\u001b[1;31mNameError\u001b[0m                                 Traceback (most recent call last)",
      "Cell \u001b[1;32mIn[14], line 20\u001b[0m\n\u001b[0;32m     17\u001b[0m         Stock[\u001b[38;5;28mself\u001b[39m\u001b[38;5;241m.\u001b[39mEid] \u001b[38;5;241m=\u001b[39m \u001b[38;5;28mlist\u001b[39m([\u001b[38;5;28mself\u001b[39m\u001b[38;5;241m.\u001b[39mEid,\u001b[38;5;28mself\u001b[39m\u001b[38;5;241m.\u001b[39mEname,\u001b[38;5;28mself\u001b[39m\u001b[38;5;241m.\u001b[39mEbrand,\u001b[38;5;28mself\u001b[39m\u001b[38;5;241m.\u001b[39mETqty,\u001b[38;5;28mself\u001b[39m\u001b[38;5;241m.\u001b[39mEAqty])\n\u001b[0;32m     19\u001b[0m temp\u001b[38;5;241m=\u001b[39mEQIP()\n\u001b[1;32m---> 20\u001b[0m \u001b[43mtemp\u001b[49m\u001b[38;5;241;43m.\u001b[39;49m\u001b[43mAdd_item\u001b[49m\u001b[43m(\u001b[49m\u001b[43m)\u001b[49m\n\u001b[0;32m     22\u001b[0m Stock\n",
      "Cell \u001b[1;32mIn[14], line 17\u001b[0m, in \u001b[0;36mEQIP.Add_item\u001b[1;34m(self)\u001b[0m\n\u001b[0;32m     15\u001b[0m \u001b[38;5;28mself\u001b[39m\u001b[38;5;241m.\u001b[39mETqty \u001b[38;5;241m=\u001b[39m \u001b[38;5;28mint\u001b[39m(\u001b[38;5;28minput\u001b[39m(\u001b[38;5;124m'\u001b[39m\u001b[38;5;124mEnter the Equipment Total Quantity: \u001b[39m\u001b[38;5;124m'\u001b[39m))\n\u001b[0;32m     16\u001b[0m \u001b[38;5;28mself\u001b[39m\u001b[38;5;241m.\u001b[39mEAqty \u001b[38;5;241m=\u001b[39m \u001b[38;5;28mint\u001b[39m(\u001b[38;5;28minput\u001b[39m(\u001b[38;5;124m'\u001b[39m\u001b[38;5;124mEnter the Equipment Available Quantity: \u001b[39m\u001b[38;5;124m'\u001b[39m))\n\u001b[1;32m---> 17\u001b[0m \u001b[43mStock\u001b[49m[\u001b[38;5;28mself\u001b[39m\u001b[38;5;241m.\u001b[39mEid] \u001b[38;5;241m=\u001b[39m \u001b[38;5;28mlist\u001b[39m([\u001b[38;5;28mself\u001b[39m\u001b[38;5;241m.\u001b[39mEid,\u001b[38;5;28mself\u001b[39m\u001b[38;5;241m.\u001b[39mEname,\u001b[38;5;28mself\u001b[39m\u001b[38;5;241m.\u001b[39mEbrand,\u001b[38;5;28mself\u001b[39m\u001b[38;5;241m.\u001b[39mETqty,\u001b[38;5;28mself\u001b[39m\u001b[38;5;241m.\u001b[39mEAqty])\n",
      "\u001b[1;31mNameError\u001b[0m: name 'Stock' is not defined"
     ]
    }
   ],
   "source": [
    "#Q3\n",
    "\n",
    "class EQIP:\n",
    "    def __init__(self):\n",
    "        self.Eid=0\n",
    "        self.Ename=''\n",
    "        self.Ebrand=''\n",
    "        self.ETqty=0\n",
    "        self.EAqty=0\n",
    "\n",
    "    def Add_item(self):\n",
    "        self.Eid = (input('Enter the Equipment Id: '))\n",
    "        self.Ename = input('Enter the Equipment Name: ')\n",
    "        self.Ebrand = input('Enter the Equipment Brand: ')\n",
    "        self.ETqty = int(input('Enter the Equipment Total Quantity: '))\n",
    "        self.EAqty = int(input('Enter the Equipment Available Quantity: '))\n",
    "        Stock[self.Eid] = list([self.Eid,self.Ename,self.Ebrand,self.ETqty,self.EAqty])\n",
    "\n",
    "temp=EQIP()\n",
    "temp.Add_item()\n",
    "\n",
    "Stock\n",
    "\n",
    "\n",
    "while(choice !=5):\n",
    "    print(\"\n",
    "        "
   ]
  },
  {
   "cell_type": "code",
   "execution_count": null,
   "id": "32a15c85-ada6-4110-87f6-9c7ca81b7ac1",
   "metadata": {},
   "outputs": [],
   "source": [
    "class Record:\n",
    "    def __init__(self):\n",
    "        self.name=\"\"\n",
    "        self.ID=0\n",
    "        self.Eid=0\n",
    "        selg.Ename=\"\"\n",
    "        self.Condition=\"\"\n",
    "\n",
    "    def rent_Euip(self):\n",
    "        self.name=input(\"Enter your name: \")\n",
    "        self.ID=int(input(\"Enter your ID: \"))\n",
    "        self.Eid=int(input(\"Enter your Equipment Id of item you are renting : \"))\n",
    "        self.Ename=Stock[self.Eid][0]\n",
    "        self.status=\"Rented\"\n",
    "        self.Conditions=\"Good\"\n",
    "        Records[self.ID]=list([self.name,self.Eid,self.Ename,self.status,self.Condition])\n",
    "\n",
    "    def return_Equip(self):\n",
    "        self.ID=int(input(\"Enter your ID: \"))\n",
    "        print(\"Member Id = \",self.ID)\n",
    "        print(\"Member Name = \"Records[self.Eid][0])\n",
    "        print(\"Equipment Id = \"Records[self.Eid][1])\n",
    "        print(\"Equipment Name = \"Records[self.Eid][2])\n",
    "        print(\"Status = \"Records[self.Eid][3])\n",
    "        print(\"Condition = \"Records[self.Eid][4])\n",
    "        self.Condition=input(\"Enter the returned Condition: \")\n",
    "        self.status = \"Returned\"\n",
    "        Records[self.Eid][3]=self.status\n",
    "        Records[self.Eid][4]=self.Condition\n",
    "        Stock[self.Eid][3]=Stock[self.Eid][3]+1\n",
    "        \n",
    "        \n",
    "        \n",
    "        \n",
    "        \n",
    "        "
   ]
  },
  {
   "cell_type": "code",
   "execution_count": null,
   "id": "65ffbe3a-6b60-420e-b047-c04ef0406ad7",
   "metadata": {},
   "outputs": [],
   "source": []
  }
 ],
 "metadata": {
  "kernelspec": {
   "display_name": "Python 3 (ipykernel)",
   "language": "python",
   "name": "python3"
  },
  "language_info": {
   "codemirror_mode": {
    "name": "ipython",
    "version": 3
   },
   "file_extension": ".py",
   "mimetype": "text/x-python",
   "name": "python",
   "nbconvert_exporter": "python",
   "pygments_lexer": "ipython3",
   "version": "3.12.4"
  }
 },
 "nbformat": 4,
 "nbformat_minor": 5
}
