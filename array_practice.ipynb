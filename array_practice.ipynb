{
 "cells": [
  {
   "cell_type": "code",
   "execution_count": 2,
   "id": "68b15b4e-a61c-46cb-8ca1-f0d472ee75b7",
   "metadata": {},
   "outputs": [
    {
     "data": {
      "text/plain": [
       "array([[85, 90, 78],\n",
       "       [92, 88, 95],\n",
       "       [76, 95, 85],\n",
       "       [90, 85, 92],\n",
       "       [88, 76, 89]])"
      ]
     },
     "execution_count": 2,
     "metadata": {},
     "output_type": "execute_result"
    }
   ],
   "source": [
    "import numpy as np\n",
    "\n",
    "#Declaration of array\n",
    "\n",
    "\n",
    "scores = np.array([[85, 90, 78],\n",
    "                   [92, 88, 95],\n",
    "                   [76, 95, 85],\n",
    "                   [90, 85, 92],\n",
    "                   [88, 76, 89]])\n",
    "scores\n"
   ]
  },
  {
   "cell_type": "code",
   "execution_count": 3,
   "id": "2314141b-9443-40da-a1e9-1a63652b2305",
   "metadata": {},
   "outputs": [
    {
     "data": {
      "text/plain": [
       "array([86.2, 86.8, 87.8])"
      ]
     },
     "execution_count": 3,
     "metadata": {},
     "output_type": "execute_result"
    }
   ],
   "source": [
    "#Calculate the mean score of each subject (across all subjects).\n",
    "\n",
    "np.mean(scores,axis=0)"
   ]
  },
  {
   "cell_type": "code",
   "execution_count": 4,
   "id": "f676ccea-04bd-46b6-b697-704f38b51e6e",
   "metadata": {},
   "outputs": [
    {
     "data": {
      "text/plain": [
       "array([85., 92., 85., 90., 88.])"
      ]
     },
     "execution_count": 4,
     "metadata": {},
     "output_type": "execute_result"
    }
   ],
   "source": [
    "#Find the median score of each student (across all subjects).\n",
    "\n",
    "np.median(scores,axis=1)"
   ]
  },
  {
   "cell_type": "code",
   "execution_count": 5,
   "id": "4bfbefd4-396d-42a6-bee6-55d5b12941a4",
   "metadata": {},
   "outputs": [
    {
     "data": {
      "text/plain": [
       "array([[85, 90, 78, 92, 88],\n",
       "       [95, 76, 95, 85, 90],\n",
       "       [85, 92, 88, 76, 89]])"
      ]
     },
     "execution_count": 5,
     "metadata": {},
     "output_type": "execute_result"
    }
   ],
   "source": [
    "#Reshape the array to have shape(3,5), where each row represents a subject and each column represents a student.\n",
    "\n",
    "scores.reshape(3,5)"
   ]
  },
  {
   "cell_type": "code",
   "execution_count": 6,
   "id": "f63327c9-33a1-4a12-b503-5ad841f37cae",
   "metadata": {},
   "outputs": [
    {
     "data": {
      "text/plain": [
       "array([[76, 76, 78],\n",
       "       [85, 85, 85],\n",
       "       [88, 88, 89],\n",
       "       [90, 90, 92],\n",
       "       [92, 95, 95]])"
      ]
     },
     "execution_count": 6,
     "metadata": {},
     "output_type": "execute_result"
    }
   ],
   "source": [
    "#Sort the scores of each subject in ascending order.\n",
    "\n",
    "np.sort(scores,axis=0)"
   ]
  },
  {
   "cell_type": "code",
   "execution_count": 7,
   "id": "f488057d-7918-4dcd-8fe0-243dca1c3350",
   "metadata": {},
   "outputs": [
    {
     "data": {
      "text/plain": [
       "array([76, 76, 78])"
      ]
     },
     "execution_count": 7,
     "metadata": {},
     "output_type": "execute_result"
    }
   ],
   "source": [
    "#Find the minimum scores in each subject.\n",
    "\n",
    "np.min(scores,axis=0)\n"
   ]
  },
  {
   "cell_type": "code",
   "execution_count": 8,
   "id": "fe908ce5-6603-4fb0-8548-58e11b86b983",
   "metadata": {},
   "outputs": [
    {
     "data": {
      "text/plain": [
       "array([92, 95, 95])"
      ]
     },
     "execution_count": 8,
     "metadata": {},
     "output_type": "execute_result"
    }
   ],
   "source": [
    "#Find the maximum scores in each subject.\n",
    "\n",
    "np.max(scores,axis=0)"
   ]
  },
  {
   "cell_type": "code",
   "execution_count": 9,
   "id": "9cfa0b4c-f9de-4aae-ac61-f0a4b763de77",
   "metadata": {},
   "outputs": [
    {
     "data": {
      "text/plain": [
       "array([253, 275, 256, 267, 253])"
      ]
     },
     "execution_count": 9,
     "metadata": {},
     "output_type": "execute_result"
    }
   ],
   "source": [
    "total = scores.sum(axis=1)\n",
    "total"
   ]
  },
  {
   "cell_type": "code",
   "execution_count": 10,
   "id": "468215e4-ba61-4497-8db4-ce9e49513488",
   "metadata": {},
   "outputs": [
    {
     "data": {
      "text/plain": [
       "np.int64(275)"
      ]
     },
     "execution_count": 10,
     "metadata": {},
     "output_type": "execute_result"
    }
   ],
   "source": [
    "np.max(total,axis=0)"
   ]
  },
  {
   "cell_type": "code",
   "execution_count": null,
   "id": "74bb885f-837c-44ce-885b-98633a6f5d62",
   "metadata": {},
   "outputs": [],
   "source": []
  },
  {
   "cell_type": "code",
   "execution_count": null,
   "id": "59637c9b-b61b-4cd1-88a2-b35fe03a7783",
   "metadata": {},
   "outputs": [],
   "source": []
  }
 ],
 "metadata": {
  "kernelspec": {
   "display_name": "Python 3 (ipykernel)",
   "language": "python",
   "name": "python3"
  },
  "language_info": {
   "codemirror_mode": {
    "name": "ipython",
    "version": 3
   },
   "file_extension": ".py",
   "mimetype": "text/x-python",
   "name": "python",
   "nbconvert_exporter": "python",
   "pygments_lexer": "ipython3",
   "version": "3.12.4"
  }
 },
 "nbformat": 4,
 "nbformat_minor": 5
}
