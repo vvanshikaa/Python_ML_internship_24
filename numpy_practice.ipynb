{
 "cells": [
  {
   "cell_type": "code",
   "execution_count": 2,
   "id": "918e0f16-7692-47e4-ab75-4312e0e80ec7",
   "metadata": {},
   "outputs": [],
   "source": [
    "import numpy as np\n"
   ]
  },
  {
   "cell_type": "code",
   "execution_count": 5,
   "id": "49a35ab9-2a93-4638-84be-6b662ffa01a6",
   "metadata": {},
   "outputs": [
    {
     "data": {
      "text/plain": [
       "array([1, 2, 3, 4, 5])"
      ]
     },
     "execution_count": 5,
     "metadata": {},
     "output_type": "execute_result"
    }
   ],
   "source": [
    "arr = np.array([1,2,3,4,5])\n",
    "arr"
   ]
  },
  {
   "cell_type": "code",
   "execution_count": 7,
   "id": "f86a9cda-cd48-4682-813a-87b892298dc0",
   "metadata": {},
   "outputs": [
    {
     "name": "stdout",
     "output_type": "stream",
     "text": [
      "int64\n"
     ]
    }
   ],
   "source": [
    "print(arr.dtype)"
   ]
  },
  {
   "cell_type": "code",
   "execution_count": 8,
   "id": "c159db66-d686-457a-b306-f4529898249e",
   "metadata": {},
   "outputs": [
    {
     "data": {
      "text/plain": [
       "array([1, 2, 3, 4, 5], dtype=int16)"
      ]
     },
     "execution_count": 8,
     "metadata": {},
     "output_type": "execute_result"
    }
   ],
   "source": [
    "arr2 = np.array([1,2,3,4,5],dtype=np.int16)\n",
    "arr2"
   ]
  },
  {
   "cell_type": "code",
   "execution_count": 9,
   "id": "fb518821-2446-4045-bb11-0ca5a1715aa8",
   "metadata": {},
   "outputs": [
    {
     "data": {
      "text/plain": [
       "array([0., 0., 0., 0., 0.])"
      ]
     },
     "execution_count": 9,
     "metadata": {},
     "output_type": "execute_result"
    }
   ],
   "source": [
    "Z=np.zeros(5)\n",
    "Z"
   ]
  },
  {
   "cell_type": "code",
   "execution_count": 10,
   "id": "a676694d-13bc-45e5-862b-d00fe06efc05",
   "metadata": {},
   "outputs": [
    {
     "data": {
      "text/plain": [
       "array([0, 1, 2, 3, 4, 5, 6, 7, 8, 9])"
      ]
     },
     "execution_count": 10,
     "metadata": {},
     "output_type": "execute_result"
    }
   ],
   "source": [
    "ar=np.arange(0,10,1)\n",
    "ar"
   ]
  },
  {
   "cell_type": "code",
   "execution_count": 11,
   "id": "79758724-6d6b-4ce4-be87-0bbbba0ede10",
   "metadata": {},
   "outputs": [
    {
     "data": {
      "text/plain": [
       "array([0.87572016, 0.95656508, 0.11008145, 0.42557408])"
      ]
     },
     "execution_count": 11,
     "metadata": {},
     "output_type": "execute_result"
    }
   ],
   "source": [
    "ran=np.random.rand(4)\n",
    "ran"
   ]
  },
  {
   "cell_type": "code",
   "execution_count": 12,
   "id": "a0c141ed-d3ca-420c-a0a2-59ddd01e7b9d",
   "metadata": {},
   "outputs": [
    {
     "data": {
      "text/plain": [
       "array([  0.        ,  11.11111111,  22.22222222,  33.33333333,\n",
       "        44.44444444,  55.55555556,  66.66666667,  77.77777778,\n",
       "        88.88888889, 100.        ])"
      ]
     },
     "execution_count": 12,
     "metadata": {},
     "output_type": "execute_result"
    }
   ],
   "source": [
    "ln=np.linspace(0,100,10)\n",
    "ln"
   ]
  },
  {
   "cell_type": "markdown",
   "id": "07a15687-103b-4f3b-b15a-9bc3161357db",
   "metadata": {},
   "source": [
    "**2D Arrays**"
   ]
  },
  {
   "cell_type": "code",
   "execution_count": 13,
   "id": "d120d7b4-fd27-433e-86c0-1a24499a114c",
   "metadata": {},
   "outputs": [
    {
     "data": {
      "text/plain": [
       "array([[1, 2, 3],\n",
       "       [4, 5, 6],\n",
       "       [7, 8, 9]])"
      ]
     },
     "execution_count": 13,
     "metadata": {},
     "output_type": "execute_result"
    }
   ],
   "source": [
    "ar2=np.array([[1,2,3],[4,5,6],[7,8,9]])\n",
    "ar2"
   ]
  },
  {
   "cell_type": "code",
   "execution_count": 14,
   "id": "c2892342-2667-4b2b-99e7-2dc7853cdf5e",
   "metadata": {},
   "outputs": [
    {
     "data": {
      "text/plain": [
       "array([[0., 0., 0., 0., 0.],\n",
       "       [0., 0., 0., 0., 0.],\n",
       "       [0., 0., 0., 0., 0.],\n",
       "       [0., 0., 0., 0., 0.],\n",
       "       [0., 0., 0., 0., 0.]])"
      ]
     },
     "execution_count": 14,
     "metadata": {},
     "output_type": "execute_result"
    }
   ],
   "source": [
    "z1=np.zeros([5,5])\n",
    "z1\n"
   ]
  },
  {
   "cell_type": "code",
   "execution_count": 15,
   "id": "846ddcc3-725c-470e-8494-ba29fec9b3cf",
   "metadata": {},
   "outputs": [
    {
     "data": {
      "text/plain": [
       "array([[1., 1., 1., 1., 1.],\n",
       "       [1., 1., 1., 1., 1.],\n",
       "       [1., 1., 1., 1., 1.],\n",
       "       [1., 1., 1., 1., 1.],\n",
       "       [1., 1., 1., 1., 1.]])"
      ]
     },
     "execution_count": 15,
     "metadata": {},
     "output_type": "execute_result"
    }
   ],
   "source": [
    "o1=np.ones([5,5])\n",
    "o1"
   ]
  },
  {
   "cell_type": "code",
   "execution_count": 17,
   "id": "d543235c-2fd7-47f7-81d6-1ea61201f77d",
   "metadata": {},
   "outputs": [
    {
     "data": {
      "text/plain": [
       "array([[1., 0., 0., 0., 0.],\n",
       "       [0., 1., 0., 0., 0.],\n",
       "       [0., 0., 1., 0., 0.],\n",
       "       [0., 0., 0., 1., 0.],\n",
       "       [0., 0., 0., 0., 1.]])"
      ]
     },
     "execution_count": 17,
     "metadata": {},
     "output_type": "execute_result"
    }
   ],
   "source": [
    "I=np.eye(5)\n",
    "I"
   ]
  },
  {
   "cell_type": "code",
   "execution_count": 18,
   "id": "861e0259-2aa1-466f-a25c-6fdfc82a1b27",
   "metadata": {},
   "outputs": [
    {
     "data": {
      "text/plain": [
       "array([[0.35783534, 0.76227609, 0.11191659, 0.60753383, 0.21535472],\n",
       "       [0.90174696, 0.26001886, 0.73390499, 0.88230495, 0.22354135],\n",
       "       [0.49794744, 0.22629552, 0.82256091, 0.92727423, 0.35884432],\n",
       "       [0.43630634, 0.50305925, 0.19620879, 0.153314  , 0.17955133]])"
      ]
     },
     "execution_count": 18,
     "metadata": {},
     "output_type": "execute_result"
    }
   ],
   "source": [
    "r1=np.random.rand(4,5)\n",
    "r1"
   ]
  },
  {
   "cell_type": "code",
   "execution_count": 19,
   "id": "c3a4aa51-475f-45f5-bde5-fb19addb2470",
   "metadata": {},
   "outputs": [
    {
     "data": {
      "text/plain": [
       "array([[1, 2, 3],\n",
       "       [4, 5, 6],\n",
       "       [7, 8, 9]])"
      ]
     },
     "execution_count": 19,
     "metadata": {},
     "output_type": "execute_result"
    }
   ],
   "source": [
    "ar\n",
    "ar2"
   ]
  },
  {
   "cell_type": "code",
   "execution_count": 20,
   "id": "5cd21c2b-e9dd-4733-94fa-0fd27679a161",
   "metadata": {},
   "outputs": [
    {
     "data": {
      "text/plain": [
       "array([0, 1, 2, 3, 4, 5, 6, 7, 8, 9])"
      ]
     },
     "execution_count": 20,
     "metadata": {},
     "output_type": "execute_result"
    }
   ],
   "source": [
    "ar"
   ]
  },
  {
   "cell_type": "code",
   "execution_count": 21,
   "id": "2c7665ab-da9b-494f-a056-ffb3f5b199b2",
   "metadata": {},
   "outputs": [
    {
     "data": {
      "text/plain": [
       "array([[1, 2, 3],\n",
       "       [4, 5, 6],\n",
       "       [7, 8, 9]])"
      ]
     },
     "execution_count": 21,
     "metadata": {},
     "output_type": "execute_result"
    }
   ],
   "source": [
    "ar2"
   ]
  },
  {
   "cell_type": "code",
   "execution_count": 22,
   "id": "c1eefb6f-8896-4a4f-85a3-2e67817bc968",
   "metadata": {},
   "outputs": [
    {
     "name": "stdout",
     "output_type": "stream",
     "text": [
      "10\n"
     ]
    }
   ],
   "source": [
    "print(ar.size)"
   ]
  },
  {
   "cell_type": "code",
   "execution_count": 23,
   "id": "eccc33fc-d3a3-46f6-b2b3-ceee8713b0cb",
   "metadata": {},
   "outputs": [
    {
     "name": "stdout",
     "output_type": "stream",
     "text": [
      "9\n"
     ]
    }
   ],
   "source": [
    "print(ar2.size)"
   ]
  },
  {
   "cell_type": "code",
   "execution_count": 24,
   "id": "31071255-a9f0-46c8-a893-7ba168278ac5",
   "metadata": {},
   "outputs": [
    {
     "name": "stdout",
     "output_type": "stream",
     "text": [
      "(10,)\n"
     ]
    }
   ],
   "source": [
    "print(ar.shape)"
   ]
  },
  {
   "cell_type": "code",
   "execution_count": 25,
   "id": "bad7b675-9596-47ac-b329-c79933c1360d",
   "metadata": {},
   "outputs": [
    {
     "name": "stdout",
     "output_type": "stream",
     "text": [
      "(3, 3)\n"
     ]
    }
   ],
   "source": [
    "print(ar2.shape)"
   ]
  },
  {
   "cell_type": "markdown",
   "id": "d2502e8c-a5a7-4e7a-a1e6-1f884776c48b",
   "metadata": {},
   "source": [
    "**Operations in Array**\n",
    "copy\n",
    "reshape\n",
    "sort"
   ]
  },
  {
   "cell_type": "code",
   "execution_count": 26,
   "id": "a304577c-2041-4713-946a-e1407d4debab",
   "metadata": {},
   "outputs": [
    {
     "data": {
      "text/plain": [
       "array([[1, 2, 3],\n",
       "       [4, 5, 6],\n",
       "       [7, 8, 9]])"
      ]
     },
     "execution_count": 26,
     "metadata": {},
     "output_type": "execute_result"
    }
   ],
   "source": [
    "ar3=np.copy(ar2)\n",
    "ar3"
   ]
  },
  {
   "cell_type": "code",
   "execution_count": 27,
   "id": "43b365c8-9f32-4343-90e5-e9616a6bfe0c",
   "metadata": {},
   "outputs": [],
   "source": [
    "ar3[2,2]=10"
   ]
  },
  {
   "cell_type": "code",
   "execution_count": 28,
   "id": "61528a1b-99b7-4f64-bdb3-e700cc6e7d90",
   "metadata": {},
   "outputs": [
    {
     "data": {
      "text/plain": [
       "array([[ 1,  2,  3],\n",
       "       [ 4,  5,  6],\n",
       "       [ 7,  8, 10]])"
      ]
     },
     "execution_count": 28,
     "metadata": {},
     "output_type": "execute_result"
    }
   ],
   "source": [
    "ar3"
   ]
  },
  {
   "cell_type": "code",
   "execution_count": 29,
   "id": "5078e520-9219-4bc5-a2f2-b8a3dea57fcd",
   "metadata": {},
   "outputs": [
    {
     "data": {
      "text/plain": [
       "array([[ 1, 15,  3],\n",
       "       [ 4,  5, 12],\n",
       "       [ 7,  8, 10]])"
      ]
     },
     "execution_count": 29,
     "metadata": {},
     "output_type": "execute_result"
    }
   ],
   "source": [
    "ar3[1,2]=12\n",
    "ar3[0,1]=15\n",
    "ar3"
   ]
  },
  {
   "cell_type": "code",
   "execution_count": 30,
   "id": "719f5f97-4bc1-4b4d-b572-746d39f44ee0",
   "metadata": {},
   "outputs": [
    {
     "data": {
      "text/plain": [
       "array([[ 1,  3, 15],\n",
       "       [ 4,  5, 12],\n",
       "       [ 7,  8, 10]])"
      ]
     },
     "execution_count": 30,
     "metadata": {},
     "output_type": "execute_result"
    }
   ],
   "source": [
    "ar3=np.sort(ar3)\n",
    "ar3"
   ]
  },
  {
   "cell_type": "code",
   "execution_count": 32,
   "id": "42b89338-c130-4e8c-aff0-037b5693f55e",
   "metadata": {},
   "outputs": [
    {
     "data": {
      "text/plain": [
       "array([[ 1,  3, 10],\n",
       "       [ 4,  5, 12],\n",
       "       [ 7,  8, 15]])"
      ]
     },
     "execution_count": 32,
     "metadata": {},
     "output_type": "execute_result"
    }
   ],
   "source": [
    "ar3=np.sort(ar3,axis=0)\n",
    "ar3"
   ]
  },
  {
   "cell_type": "code",
   "execution_count": 33,
   "id": "a2010e56-baf2-4d1d-a71d-2be18837c30c",
   "metadata": {},
   "outputs": [
    {
     "data": {
      "text/plain": [
       "np.int64(65)"
      ]
     },
     "execution_count": 33,
     "metadata": {},
     "output_type": "execute_result"
    }
   ],
   "source": [
    "ar3.sum()"
   ]
  },
  {
   "cell_type": "code",
   "execution_count": 34,
   "id": "f471cdbf-fb46-4cd7-a97a-6ad793134591",
   "metadata": {},
   "outputs": [
    {
     "data": {
      "text/plain": [
       "array([12, 16, 37])"
      ]
     },
     "execution_count": 34,
     "metadata": {},
     "output_type": "execute_result"
    }
   ],
   "source": [
    "ar3.sum(axis=0)"
   ]
  },
  {
   "cell_type": "code",
   "execution_count": 35,
   "id": "73a07bf5-8749-4a74-b78a-0dacfa1529c6",
   "metadata": {},
   "outputs": [
    {
     "data": {
      "text/plain": [
       "array([14, 21, 30])"
      ]
     },
     "execution_count": 35,
     "metadata": {},
     "output_type": "execute_result"
    }
   ],
   "source": [
    "ar3.sum(axis=1)"
   ]
  },
  {
   "cell_type": "code",
   "execution_count": 36,
   "id": "d09cd9f6-269e-49c8-9432-c228d09b6e79",
   "metadata": {},
   "outputs": [
    {
     "data": {
      "text/plain": [
       "array([0.76050338, 0.44559883, 0.21701979, 0.10337026, 0.32615519,\n",
       "       0.42037575, 0.40428374, 0.64205653, 0.63543186, 0.84754183,\n",
       "       0.76643305, 0.31651389, 0.91218151, 0.07948947, 0.451721  ,\n",
       "       0.94998413, 0.15367013, 0.28490479, 0.60784414, 0.52903472,\n",
       "       0.13493794, 0.20263553, 0.97577246, 0.8139024 , 0.82258937,\n",
       "       0.90684767, 0.4381998 , 0.00469108, 0.46099153, 0.16282637,\n",
       "       0.31040393, 0.14795295, 0.55285054, 0.56868235, 0.74885659,\n",
       "       0.21164467, 0.22861929, 0.67002118, 0.79899898, 0.8576244 ,\n",
       "       0.82444871, 0.47517915, 0.16135057, 0.05941932, 0.43667151,\n",
       "       0.79413799, 0.56748295, 0.76885801, 0.73431936, 0.47519296,\n",
       "       0.96126828, 0.29854864, 0.47203755, 0.44835045, 0.69201822,\n",
       "       0.7289017 , 0.5604296 , 0.40354838, 0.65614437, 0.18143653,\n",
       "       0.33663121, 0.30461678, 0.73933708, 0.87919343, 0.35175082,\n",
       "       0.67288697, 0.81981571, 0.33927899, 0.58616486, 0.30201942,\n",
       "       0.19154456, 0.46769162, 0.65946337, 0.39105763, 0.23547047,\n",
       "       0.3180159 , 0.01738019, 0.43757958, 0.389471  , 0.2868955 ,\n",
       "       0.51191102, 0.10461585, 0.25082414, 0.39540426, 0.35551933,\n",
       "       0.31300934, 0.37697238, 0.77342888, 0.63076659, 0.5013748 ,\n",
       "       0.32416215, 0.89231364, 0.25254615, 0.49463595, 0.52974438,\n",
       "       0.86434289, 0.90141947, 0.7790262 , 0.49401276])"
      ]
     },
     "execution_count": 36,
     "metadata": {},
     "output_type": "execute_result"
    }
   ],
   "source": [
    "ar4=np.random.rand(99)\n",
    "ar4"
   ]
  },
  {
   "cell_type": "code",
   "execution_count": 37,
   "id": "a51c6f0b-012a-470d-bca0-db3f8796938d",
   "metadata": {},
   "outputs": [
    {
     "data": {
      "text/plain": [
       "99"
      ]
     },
     "execution_count": 37,
     "metadata": {},
     "output_type": "execute_result"
    }
   ],
   "source": [
    "ar4.size"
   ]
  },
  {
   "cell_type": "code",
   "execution_count": 38,
   "id": "dad98fe8-73c7-47ee-88dd-89a2c9cd22ec",
   "metadata": {},
   "outputs": [],
   "source": [
    "ar4=ar4.reshape(11,9)"
   ]
  },
  {
   "cell_type": "code",
   "execution_count": 39,
   "id": "eedf27a1-21ec-4323-a48a-6d29f101f770",
   "metadata": {},
   "outputs": [
    {
     "data": {
      "text/plain": [
       "99"
      ]
     },
     "execution_count": 39,
     "metadata": {},
     "output_type": "execute_result"
    }
   ],
   "source": [
    "ar4.size"
   ]
  },
  {
   "cell_type": "code",
   "execution_count": 44,
   "id": "8b245a42-a5e6-4c78-b646-3b32f00fb183",
   "metadata": {},
   "outputs": [
    {
     "data": {
      "text/plain": [
       "(11, 9)"
      ]
     },
     "execution_count": 44,
     "metadata": {},
     "output_type": "execute_result"
    }
   ],
   "source": [
    "ar4.shape"
   ]
  },
  {
   "cell_type": "code",
   "execution_count": 45,
   "id": "34f49c6c-0cd4-45aa-b171-c84d0891df88",
   "metadata": {},
   "outputs": [
    {
     "data": {
      "text/plain": [
       "array([[0.76050338, 0.44559883, 0.21701979, 0.10337026, 0.32615519,\n",
       "        0.42037575, 0.40428374, 0.64205653, 0.63543186],\n",
       "       [0.84754183, 0.76643305, 0.31651389, 0.91218151, 0.07948947,\n",
       "        0.451721  , 0.94998413, 0.15367013, 0.28490479],\n",
       "       [0.60784414, 0.52903472, 0.13493794, 0.20263553, 0.97577246,\n",
       "        0.8139024 , 0.82258937, 0.90684767, 0.4381998 ],\n",
       "       [0.00469108, 0.46099153, 0.16282637, 0.31040393, 0.14795295,\n",
       "        0.55285054, 0.56868235, 0.74885659, 0.21164467],\n",
       "       [0.22861929, 0.67002118, 0.79899898, 0.8576244 , 0.82444871,\n",
       "        0.47517915, 0.16135057, 0.05941932, 0.43667151],\n",
       "       [0.79413799, 0.56748295, 0.76885801, 0.73431936, 0.47519296,\n",
       "        0.96126828, 0.29854864, 0.47203755, 0.44835045],\n",
       "       [0.69201822, 0.7289017 , 0.5604296 , 0.40354838, 0.65614437,\n",
       "        0.18143653, 0.33663121, 0.30461678, 0.73933708],\n",
       "       [0.87919343, 0.35175082, 0.67288697, 0.81981571, 0.33927899,\n",
       "        0.58616486, 0.30201942, 0.19154456, 0.46769162],\n",
       "       [0.65946337, 0.39105763, 0.23547047, 0.3180159 , 0.01738019,\n",
       "        0.43757958, 0.389471  , 0.2868955 , 0.51191102],\n",
       "       [0.10461585, 0.25082414, 0.39540426, 0.35551933, 0.31300934,\n",
       "        0.37697238, 0.77342888, 0.63076659, 0.5013748 ],\n",
       "       [0.32416215, 0.89231364, 0.25254615, 0.49463595, 0.52974438,\n",
       "        0.86434289, 0.90141947, 0.7790262 , 0.49401276]])"
      ]
     },
     "execution_count": 45,
     "metadata": {},
     "output_type": "execute_result"
    }
   ],
   "source": [
    "ar4\n"
   ]
  },
  {
   "cell_type": "code",
   "execution_count": 46,
   "id": "6a5f550c-07ae-42e8-83cb-4be488cf8bea",
   "metadata": {},
   "outputs": [
    {
     "data": {
      "text/plain": [
       "array([[ 1,  3, 10],\n",
       "       [ 4,  5, 12],\n",
       "       [ 7,  8, 15]])"
      ]
     },
     "execution_count": 46,
     "metadata": {},
     "output_type": "execute_result"
    }
   ],
   "source": [
    "ar3"
   ]
  },
  {
   "cell_type": "code",
   "execution_count": 47,
   "id": "c3b4cd2a-586c-4dd9-b5dc-635f9031a3fd",
   "metadata": {},
   "outputs": [
    {
     "data": {
      "text/plain": [
       "array([[ 1,  4,  7],\n",
       "       [ 3,  5,  8],\n",
       "       [10, 12, 15]])"
      ]
     },
     "execution_count": 47,
     "metadata": {},
     "output_type": "execute_result"
    }
   ],
   "source": [
    "ar3=ar3.T\n",
    "ar3"
   ]
  },
  {
   "cell_type": "code",
   "execution_count": 48,
   "id": "9588c387-5c72-4777-a0d1-cfcd6eed430d",
   "metadata": {},
   "outputs": [
    {
     "data": {
      "text/plain": [
       "array([0, 1, 2, 3, 4, 5, 6, 7, 8, 9])"
      ]
     },
     "execution_count": 48,
     "metadata": {},
     "output_type": "execute_result"
    }
   ],
   "source": [
    "ar"
   ]
  },
  {
   "cell_type": "code",
   "execution_count": 49,
   "id": "f40c4c11-3d2c-4bed-809e-325b0ab3a550",
   "metadata": {},
   "outputs": [
    {
     "data": {
      "text/plain": [
       "array([ 0,  1,  2,  3,  4,  5,  6,  7,  8,  9, 10])"
      ]
     },
     "execution_count": 49,
     "metadata": {},
     "output_type": "execute_result"
    }
   ],
   "source": [
    "np.append(ar,10)"
   ]
  },
  {
   "cell_type": "code",
   "execution_count": 50,
   "id": "538a9e6d-d77a-4792-a4d5-0ef3e226af25",
   "metadata": {},
   "outputs": [
    {
     "data": {
      "text/plain": [
       "array([0, 1, 2, 3, 4, 5, 6, 7, 8, 9])"
      ]
     },
     "execution_count": 50,
     "metadata": {},
     "output_type": "execute_result"
    }
   ],
   "source": [
    "ar"
   ]
  },
  {
   "cell_type": "code",
   "execution_count": 51,
   "id": "5afdddea-ef4a-4a43-bf7e-b578515fd251",
   "metadata": {},
   "outputs": [],
   "source": [
    "ar=np.delete(ar,6,axis=0)"
   ]
  },
  {
   "cell_type": "code",
   "execution_count": 52,
   "id": "0249ff8d-d716-4abd-8a18-9225b0a9dee8",
   "metadata": {},
   "outputs": [
    {
     "data": {
      "text/plain": [
       "array([0, 1, 2, 3, 4, 5, 7, 8, 9])"
      ]
     },
     "execution_count": 52,
     "metadata": {},
     "output_type": "execute_result"
    }
   ],
   "source": [
    "ar"
   ]
  },
  {
   "cell_type": "code",
   "execution_count": 53,
   "id": "89dd04e8-7aa6-438a-853f-3bf5af689e31",
   "metadata": {},
   "outputs": [
    {
     "data": {
      "text/plain": [
       "array([0, 1, 2, 3, 4, 5, 6, 7, 8, 9])"
      ]
     },
     "execution_count": 53,
     "metadata": {},
     "output_type": "execute_result"
    }
   ],
   "source": [
    "ar=np.insert(ar,6,6)\n",
    "ar"
   ]
  },
  {
   "cell_type": "code",
   "execution_count": 54,
   "id": "08e943eb-93f7-4f0c-bc34-1a6c571a3d79",
   "metadata": {},
   "outputs": [
    {
     "data": {
      "text/plain": [
       "array([[1, 2, 3],\n",
       "       [4, 5, 6],\n",
       "       [7, 8, 9]])"
      ]
     },
     "execution_count": 54,
     "metadata": {},
     "output_type": "execute_result"
    }
   ],
   "source": [
    "\n",
    "ar2"
   ]
  },
  {
   "cell_type": "code",
   "execution_count": 55,
   "id": "efe9be6a-8803-4a91-9baf-b4b0a1076fca",
   "metadata": {},
   "outputs": [
    {
     "data": {
      "text/plain": [
       "array([[ 1,  4,  7],\n",
       "       [ 3,  5,  8],\n",
       "       [10, 12, 15]])"
      ]
     },
     "execution_count": 55,
     "metadata": {},
     "output_type": "execute_result"
    }
   ],
   "source": [
    "ar3"
   ]
  },
  {
   "cell_type": "code",
   "execution_count": 56,
   "id": "4baa218a-896c-46f8-a238-81636904bbda",
   "metadata": {},
   "outputs": [
    {
     "data": {
      "text/plain": [
       "array([[ 1,  2,  3],\n",
       "       [ 4,  5,  6],\n",
       "       [ 7,  8,  9],\n",
       "       [ 1,  4,  7],\n",
       "       [ 3,  5,  8],\n",
       "       [10, 12, 15]])"
      ]
     },
     "execution_count": 56,
     "metadata": {},
     "output_type": "execute_result"
    }
   ],
   "source": [
    "ar4=np.concatenate((ar2,ar3),axis=0)\n",
    "ar4"
   ]
  },
  {
   "cell_type": "code",
   "execution_count": 57,
   "id": "aeec7be2-ca35-4705-b624-f82653ca83cf",
   "metadata": {},
   "outputs": [
    {
     "data": {
      "text/plain": [
       "array([[ 1,  2,  3,  1,  4,  7],\n",
       "       [ 4,  5,  6,  3,  5,  8],\n",
       "       [ 7,  8,  9, 10, 12, 15]])"
      ]
     },
     "execution_count": 57,
     "metadata": {},
     "output_type": "execute_result"
    }
   ],
   "source": [
    "ar5=np.concatenate((ar2,ar3),axis=1)\n",
    "ar5"
   ]
  },
  {
   "cell_type": "code",
   "execution_count": 58,
   "id": "1c2aaca9-94b7-4b02-969d-a840dab723c3",
   "metadata": {},
   "outputs": [
    {
     "data": {
      "text/plain": [
       "[array([[1, 2, 3],\n",
       "        [4, 5, 6]]),\n",
       " array([[7, 8, 9],\n",
       "        [1, 4, 7]]),\n",
       " array([[ 3,  5,  8],\n",
       "        [10, 12, 15]])]"
      ]
     },
     "execution_count": 58,
     "metadata": {},
     "output_type": "execute_result"
    }
   ],
   "source": [
    "np.split(ar4,3)"
   ]
  },
  {
   "cell_type": "code",
   "execution_count": 59,
   "id": "b7c0b0df-4a75-486d-a07a-3fb4ff4d8a75",
   "metadata": {},
   "outputs": [
    {
     "data": {
      "text/plain": [
       "[array([[1, 2, 3],\n",
       "        [4, 5, 6]]),\n",
       " array([[7, 8, 9],\n",
       "        [1, 4, 7]]),\n",
       " array([[ 3,  5,  8],\n",
       "        [10, 12, 15]])]"
      ]
     },
     "execution_count": 59,
     "metadata": {},
     "output_type": "execute_result"
    }
   ],
   "source": [
    "ar6=np.split(ar4,3)\n",
    "ar6"
   ]
  },
  {
   "cell_type": "code",
   "execution_count": 60,
   "id": "78ea89ee-ef99-4d37-a6f1-9283d4da6f99",
   "metadata": {},
   "outputs": [
    {
     "data": {
      "text/plain": [
       "array([[1, 2, 3],\n",
       "       [4, 5, 6]])"
      ]
     },
     "execution_count": 60,
     "metadata": {},
     "output_type": "execute_result"
    }
   ],
   "source": [
    "\n",
    "ar6[0]"
   ]
  },
  {
   "cell_type": "code",
   "execution_count": 61,
   "id": "f7276568-400c-4307-8ac4-1dd6f42c35ed",
   "metadata": {},
   "outputs": [
    {
     "data": {
      "text/plain": [
       "array([[ 3,  5,  8],\n",
       "       [10, 12, 15]])"
      ]
     },
     "execution_count": 61,
     "metadata": {},
     "output_type": "execute_result"
    }
   ],
   "source": [
    "ar6[2]"
   ]
  },
  {
   "cell_type": "code",
   "execution_count": 62,
   "id": "0326d6f7-1d58-4d90-b12e-ffe6bd3ab9c7",
   "metadata": {},
   "outputs": [
    {
     "data": {
      "text/plain": [
       "np.int64(1)"
      ]
     },
     "execution_count": 62,
     "metadata": {},
     "output_type": "execute_result"
    }
   ],
   "source": [
    "\n",
    "ar6[0][0][0]"
   ]
  },
  {
   "cell_type": "markdown",
   "id": "416acf8c-e180-42b8-902e-c4ed20eda121",
   "metadata": {},
   "source": [
    "**Scalar Expressions**\n",
    "\n",
    "add\n",
    "subtract\n",
    "multiply\n",
    "divide\n",
    "power\n"
   ]
  },
  {
   "cell_type": "code",
   "execution_count": 63,
   "id": "ca06d15d-9626-49b5-9442-17f286d8f6c5",
   "metadata": {},
   "outputs": [
    {
     "data": {
      "text/plain": [
       "array([[ 1,  2,  3,  1,  4,  7],\n",
       "       [ 4,  5,  6,  3,  5,  8],\n",
       "       [ 7,  8,  9, 10, 12, 15]])"
      ]
     },
     "execution_count": 63,
     "metadata": {},
     "output_type": "execute_result"
    }
   ],
   "source": [
    "ar5"
   ]
  },
  {
   "cell_type": "code",
   "execution_count": 64,
   "id": "d02dcbcb-36b2-4bb4-9e33-86da4877c141",
   "metadata": {},
   "outputs": [
    {
     "data": {
      "text/plain": [
       "array([[ 2,  3,  4,  2,  5,  8],\n",
       "       [ 5,  6,  7,  4,  6,  9],\n",
       "       [ 8,  9, 10, 11, 13, 16]])"
      ]
     },
     "execution_count": 64,
     "metadata": {},
     "output_type": "execute_result"
    }
   ],
   "source": [
    "np.add(ar5,1)"
   ]
  },
  {
   "cell_type": "markdown",
   "id": "5d88a0c7-a279-46ca-88de-79ab4c990c59",
   "metadata": {},
   "source": [
    "**Vector Operations**"
   ]
  },
  {
   "cell_type": "code",
   "execution_count": 65,
   "id": "a82c96bf-005b-4a1c-a785-0297393fd230",
   "metadata": {},
   "outputs": [
    {
     "data": {
      "text/plain": [
       "[array([[1, 2, 3],\n",
       "        [4, 5, 6]]),\n",
       " array([[7, 8, 9],\n",
       "        [1, 4, 7]]),\n",
       " array([[ 3,  5,  8],\n",
       "        [10, 12, 15]])]"
      ]
     },
     "execution_count": 65,
     "metadata": {},
     "output_type": "execute_result"
    }
   ],
   "source": [
    "ar6"
   ]
  },
  {
   "cell_type": "code",
   "execution_count": 66,
   "id": "024cf152-9b83-4017-a301-a09eb465ca92",
   "metadata": {},
   "outputs": [
    {
     "data": {
      "text/plain": [
       "array([[ 8, 10, 12],\n",
       "       [ 5,  9, 13]])"
      ]
     },
     "execution_count": 66,
     "metadata": {},
     "output_type": "execute_result"
    }
   ],
   "source": [
    "ar7 = np.add(ar6[0],ar6[1])\n",
    "ar7"
   ]
  },
  {
   "cell_type": "code",
   "execution_count": 67,
   "id": "0d1cd769-2c4e-4c54-944e-c6183bd675fd",
   "metadata": {},
   "outputs": [
    {
     "data": {
      "text/plain": [
       "array([[ 7, 16, 27],\n",
       "       [ 4, 20, 42]])"
      ]
     },
     "execution_count": 67,
     "metadata": {},
     "output_type": "execute_result"
    }
   ],
   "source": [
    "ar8 = np.multiply(ar6[0],ar6[1])\n",
    "ar8"
   ]
  },
  {
   "cell_type": "code",
   "execution_count": 68,
   "id": "2ac563c3-d88f-46dd-a365-b9e59a28b64d",
   "metadata": {},
   "outputs": [
    {
     "data": {
      "text/plain": [
       "array([[0.14285714, 0.25      , 0.33333333],\n",
       "       [4.        , 1.25      , 0.85714286]])"
      ]
     },
     "execution_count": 68,
     "metadata": {},
     "output_type": "execute_result"
    }
   ],
   "source": [
    "ar9 = np.divide(ar6[0],ar6[1])\n",
    "ar9"
   ]
  },
  {
   "cell_type": "code",
   "execution_count": 69,
   "id": "7800fb26-69fa-4d01-bd18-11e20a85bf63",
   "metadata": {},
   "outputs": [
    {
     "data": {
      "text/plain": [
       "array([[1., 1., 1.],\n",
       "       [4., 2., 1.]])"
      ]
     },
     "execution_count": 69,
     "metadata": {},
     "output_type": "execute_result"
    }
   ],
   "source": [
    "np.ceil(ar9)"
   ]
  },
  {
   "cell_type": "code",
   "execution_count": 70,
   "id": "b15520cb-0920-47fe-bd82-73bfb3837e01",
   "metadata": {},
   "outputs": [
    {
     "data": {
      "text/plain": [
       "array([[0., 0., 0.],\n",
       "       [4., 1., 0.]])"
      ]
     },
     "execution_count": 70,
     "metadata": {},
     "output_type": "execute_result"
    }
   ],
   "source": [
    "\n",
    "np.floor(ar9)"
   ]
  },
  {
   "cell_type": "code",
   "execution_count": 71,
   "id": "22c68acf-9e9f-4d7c-9436-4c08781631d0",
   "metadata": {},
   "outputs": [
    {
     "data": {
      "text/plain": [
       "array([[0., 0., 0.],\n",
       "       [4., 1., 1.]])"
      ]
     },
     "execution_count": 71,
     "metadata": {},
     "output_type": "execute_result"
    }
   ],
   "source": [
    "\n",
    "np.round(ar9)"
   ]
  },
  {
   "cell_type": "markdown",
   "id": "61194fb9-b0dc-48a6-867a-a32158833e20",
   "metadata": {},
   "source": [
    "**Statistics**"
   ]
  },
  {
   "cell_type": "code",
   "execution_count": 72,
   "id": "91c32e92-76d9-412b-8dea-a00332503819",
   "metadata": {},
   "outputs": [
    {
     "data": {
      "text/plain": [
       "np.float64(6.111111111111111)"
      ]
     },
     "execution_count": 72,
     "metadata": {},
     "output_type": "execute_result"
    }
   ],
   "source": [
    "np.mean(ar5)"
   ]
  },
  {
   "cell_type": "code",
   "execution_count": 73,
   "id": "af1cabc4-a0db-4e8d-bba9-173b810c11d0",
   "metadata": {},
   "outputs": [
    {
     "data": {
      "text/plain": [
       "array([ 4.        ,  5.        ,  6.        ,  4.66666667,  7.        ,\n",
       "       10.        ])"
      ]
     },
     "execution_count": 73,
     "metadata": {},
     "output_type": "execute_result"
    }
   ],
   "source": [
    "np.mean(ar5,axis=0)"
   ]
  },
  {
   "cell_type": "code",
   "execution_count": 74,
   "id": "e1314d98-6d8c-42d4-97ad-67e00789eba7",
   "metadata": {},
   "outputs": [
    {
     "data": {
      "text/plain": [
       "array([ 3.        ,  5.16666667, 10.16666667])"
      ]
     },
     "execution_count": 74,
     "metadata": {},
     "output_type": "execute_result"
    }
   ],
   "source": [
    "\n",
    "np.mean(ar5,axis=1)"
   ]
  },
  {
   "cell_type": "code",
   "execution_count": 75,
   "id": "59528756-a120-4e8c-a40b-138e3781e755",
   "metadata": {},
   "outputs": [
    {
     "data": {
      "text/plain": [
       "np.float64(5.5)"
      ]
     },
     "execution_count": 75,
     "metadata": {},
     "output_type": "execute_result"
    }
   ],
   "source": [
    "\n",
    "np.median(ar5)"
   ]
  },
  {
   "cell_type": "code",
   "execution_count": 76,
   "id": "d1141c4a-1079-4661-b4ec-f866fdf951aa",
   "metadata": {},
   "outputs": [
    {
     "data": {
      "text/plain": [
       "array([2.5, 5. , 9.5])"
      ]
     },
     "execution_count": 76,
     "metadata": {},
     "output_type": "execute_result"
    }
   ],
   "source": [
    "np.median(ar5,axis=1)"
   ]
  },
  {
   "cell_type": "code",
   "execution_count": 77,
   "id": "9e9fc309-b8b4-4e99-8694-ea1dcfe76582",
   "metadata": {},
   "outputs": [
    {
     "data": {
      "text/plain": [
       "np.int64(1)"
      ]
     },
     "execution_count": 77,
     "metadata": {},
     "output_type": "execute_result"
    }
   ],
   "source": [
    "\n",
    "np.min(ar5)"
   ]
  },
  {
   "cell_type": "code",
   "execution_count": 78,
   "id": "530223a1-4044-4e72-af96-416639d218dc",
   "metadata": {},
   "outputs": [
    {
     "data": {
      "text/plain": [
       "array([1, 2, 3, 1, 4, 7])"
      ]
     },
     "execution_count": 78,
     "metadata": {},
     "output_type": "execute_result"
    }
   ],
   "source": [
    "\n",
    "np.min(ar5,axis=0)"
   ]
  },
  {
   "cell_type": "code",
   "execution_count": 79,
   "id": "02f85859-a4af-4962-a64c-12d016a34f7f",
   "metadata": {},
   "outputs": [
    {
     "data": {
      "text/plain": [
       "array([ 7,  8,  9, 10, 12, 15])"
      ]
     },
     "execution_count": 79,
     "metadata": {},
     "output_type": "execute_result"
    }
   ],
   "source": [
    "\n",
    "np.max(ar5,axis=0)"
   ]
  },
  {
   "cell_type": "code",
   "execution_count": 80,
   "id": "93f0771a-4d1e-45ac-9f6b-22f8ea8d7e77",
   "metadata": {},
   "outputs": [],
   "source": [
    "\n",
    "ar10=np.array([2,5,3,8,0,4,1,6,9])"
   ]
  },
  {
   "cell_type": "code",
   "execution_count": 81,
   "id": "28838f7d-1a33-425e-a550-0ad0f62b41d9",
   "metadata": {},
   "outputs": [
    {
     "data": {
      "text/plain": [
       "array([[ 1,  2,  3,  1,  4,  7],\n",
       "       [ 4,  5,  6,  3,  5,  8],\n",
       "       [ 7,  8,  9, 10, 12, 15]])"
      ]
     },
     "execution_count": 81,
     "metadata": {},
     "output_type": "execute_result"
    }
   ],
   "source": [
    "ar5"
   ]
  },
  {
   "cell_type": "code",
   "execution_count": null,
   "id": "e9495245-b8ac-4766-9971-b3c3e01a2fde",
   "metadata": {},
   "outputs": [],
   "source": []
  }
 ],
 "metadata": {
  "kernelspec": {
   "display_name": "Python 3 (ipykernel)",
   "language": "python",
   "name": "python3"
  },
  "language_info": {
   "codemirror_mode": {
    "name": "ipython",
    "version": 3
   },
   "file_extension": ".py",
   "mimetype": "text/x-python",
   "name": "python",
   "nbconvert_exporter": "python",
   "pygments_lexer": "ipython3",
   "version": "3.12.4"
  }
 },
 "nbformat": 4,
 "nbformat_minor": 5
}
