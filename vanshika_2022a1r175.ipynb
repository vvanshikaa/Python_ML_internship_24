{
 "cells": [
  {
   "cell_type": "code",
   "execution_count": 11,
   "id": "72cde64b-fc3d-4885-bad7-ba77a97a0c32",
   "metadata": {},
   "outputs": [
    {
     "name": "stdout",
     "output_type": "stream",
     "text": [
      "        * \n",
      "      * * \n",
      "    * * * \n",
      "  * * * * \n",
      "* * * * * \n"
     ]
    }
   ],
   "source": [
    " #Q1 Write a code to print the given pattern.\n",
    "\n",
    "def pattern(n):\n",
    "    for i in range(1, n + 1):      \n",
    "        print(' '*(n - i) * 2, end='')\n",
    "        for j in range(i):\n",
    "            print('* ', end='')\n",
    "        print()\n",
    "rows = 5\n",
    "pattern(rows)\n"
   ]
  },
  {
   "cell_type": "code",
   "execution_count": null,
   "id": "c8266afd-ab3a-4894-8c9e-1e2250a300f6",
   "metadata": {},
   "outputs": [
    {
     "name": "stdin",
     "output_type": "stream",
     "text": [
      "Enter ist num:  9\n",
      "Enter ist num:  0\n"
     ]
    },
    {
     "name": "stdout",
     "output_type": "stream",
     "text": [
      "Error Division by zero.Please try again\n"
     ]
    }
   ],
   "source": [
    "#Q2\n",
    "\n",
    "def division():\n",
    "    while True:\n",
    "        try:\n",
    "            num1 = float(input(\"Enter ist num: \"))\n",
    "            num2 = float(input(\"Enter ist num: \"))\n",
    "            result = num1/num2\n",
    "            print(result)\n",
    "            break \n",
    "        except ZeroDivisionError:\n",
    "            print(\"Error Division by zero.Please try again\")\n",
    "        except ValueError:\n",
    "            print(\"Invalid input ! Please enter a valid input.\")\n",
    "            \n",
    "if __name__ == \"__main__\":\n",
    "    division()\n",
    "\n",
    "        "
   ]
  },
  {
   "cell_type": "code",
   "execution_count": null,
   "id": "be21f60f-a975-4842-af43-e989038587e4",
   "metadata": {},
   "outputs": [],
   "source": []
  },
  {
   "cell_type": "code",
   "execution_count": null,
   "id": "3a395858-4502-4474-bf8a-e58ca67b9942",
   "metadata": {},
   "outputs": [],
   "source": []
  }
 ],
 "metadata": {
  "kernelspec": {
   "display_name": "Python 3 (ipykernel)",
   "language": "python",
   "name": "python3"
  },
  "language_info": {
   "codemirror_mode": {
    "name": "ipython",
    "version": 3
   },
   "file_extension": ".py",
   "mimetype": "text/x-python",
   "name": "python",
   "nbconvert_exporter": "python",
   "pygments_lexer": "ipython3",
   "version": "3.12.4"
  }
 },
 "nbformat": 4,
 "nbformat_minor": 5
}
